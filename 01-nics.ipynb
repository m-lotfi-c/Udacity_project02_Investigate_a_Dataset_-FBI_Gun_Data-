{
 "cells": [
  {
   "cell_type": "markdown",
   "metadata": {},
   "source": [
    "### Script used to clean and Sort data\n"
   ]
  },
  {
   "cell_type": "code",
   "execution_count": 1,
   "metadata": {},
   "outputs": [],
   "source": [
    "# Use this cell to set up import statements for all of the packages \n",
    "import numpy as np\n",
    "import pandas as pd\n",
    "import seaborn as sns\n",
    "from matplotlib import pyplot as plt\n",
    "\n",
    "# 'magic word' so that your visualizations are plotted\n",
    "%matplotlib inline"
   ]
  },
  {
   "cell_type": "markdown",
   "metadata": {},
   "source": [
    "### 01- Data Wrangling for NICS Firearm Background Checks"
   ]
  },
  {
   "cell_type": "code",
   "execution_count": 2,
   "metadata": {},
   "outputs": [
    {
     "name": "stdout",
     "output_type": "stream",
     "text": [
      "- nics firearm background checks size :  (14795, 27)\n"
     ]
    },
    {
     "data": {
      "text/html": [
       "<div>\n",
       "<style scoped>\n",
       "    .dataframe tbody tr th:only-of-type {\n",
       "        vertical-align: middle;\n",
       "    }\n",
       "\n",
       "    .dataframe tbody tr th {\n",
       "        vertical-align: top;\n",
       "    }\n",
       "\n",
       "    .dataframe thead th {\n",
       "        text-align: right;\n",
       "    }\n",
       "</style>\n",
       "<table border=\"1\" class=\"dataframe\">\n",
       "  <thead>\n",
       "    <tr style=\"text-align: right;\">\n",
       "      <th></th>\n",
       "      <th>month</th>\n",
       "      <th>state</th>\n",
       "      <th>permit</th>\n",
       "      <th>permit_recheck</th>\n",
       "      <th>handgun</th>\n",
       "      <th>long_gun</th>\n",
       "      <th>other</th>\n",
       "      <th>multiple</th>\n",
       "      <th>admin</th>\n",
       "      <th>prepawn_handgun</th>\n",
       "      <th>...</th>\n",
       "      <th>returned_other</th>\n",
       "      <th>rentals_handgun</th>\n",
       "      <th>rentals_long_gun</th>\n",
       "      <th>private_sale_handgun</th>\n",
       "      <th>private_sale_long_gun</th>\n",
       "      <th>private_sale_other</th>\n",
       "      <th>return_to_seller_handgun</th>\n",
       "      <th>return_to_seller_long_gun</th>\n",
       "      <th>return_to_seller_other</th>\n",
       "      <th>totals</th>\n",
       "    </tr>\n",
       "  </thead>\n",
       "  <tbody>\n",
       "    <tr>\n",
       "      <th>0</th>\n",
       "      <td>2021-03</td>\n",
       "      <td>Alabama</td>\n",
       "      <td>42992.0</td>\n",
       "      <td>690.0</td>\n",
       "      <td>34675.0</td>\n",
       "      <td>20702.0</td>\n",
       "      <td>2048.0</td>\n",
       "      <td>1599</td>\n",
       "      <td>0.0</td>\n",
       "      <td>47.0</td>\n",
       "      <td>...</td>\n",
       "      <td>0.0</td>\n",
       "      <td>0.0</td>\n",
       "      <td>0.0</td>\n",
       "      <td>35.0</td>\n",
       "      <td>27.0</td>\n",
       "      <td>9.0</td>\n",
       "      <td>1.0</td>\n",
       "      <td>1.0</td>\n",
       "      <td>1.0</td>\n",
       "      <td>107474</td>\n",
       "    </tr>\n",
       "    <tr>\n",
       "      <th>1</th>\n",
       "      <td>2021-03</td>\n",
       "      <td>Alaska</td>\n",
       "      <td>322.0</td>\n",
       "      <td>1.0</td>\n",
       "      <td>4375.0</td>\n",
       "      <td>4186.0</td>\n",
       "      <td>590.0</td>\n",
       "      <td>316</td>\n",
       "      <td>0.0</td>\n",
       "      <td>0.0</td>\n",
       "      <td>...</td>\n",
       "      <td>0.0</td>\n",
       "      <td>0.0</td>\n",
       "      <td>0.0</td>\n",
       "      <td>8.0</td>\n",
       "      <td>3.0</td>\n",
       "      <td>3.0</td>\n",
       "      <td>0.0</td>\n",
       "      <td>1.0</td>\n",
       "      <td>0.0</td>\n",
       "      <td>10170</td>\n",
       "    </tr>\n",
       "    <tr>\n",
       "      <th>2</th>\n",
       "      <td>2021-03</td>\n",
       "      <td>Arizona</td>\n",
       "      <td>10118.0</td>\n",
       "      <td>699.0</td>\n",
       "      <td>32738.0</td>\n",
       "      <td>15268.0</td>\n",
       "      <td>2497.0</td>\n",
       "      <td>1746</td>\n",
       "      <td>0.0</td>\n",
       "      <td>20.0</td>\n",
       "      <td>...</td>\n",
       "      <td>4.0</td>\n",
       "      <td>0.0</td>\n",
       "      <td>0.0</td>\n",
       "      <td>27.0</td>\n",
       "      <td>17.0</td>\n",
       "      <td>4.0</td>\n",
       "      <td>0.0</td>\n",
       "      <td>0.0</td>\n",
       "      <td>0.0</td>\n",
       "      <td>65805</td>\n",
       "    </tr>\n",
       "    <tr>\n",
       "      <th>3</th>\n",
       "      <td>2021-03</td>\n",
       "      <td>Arkansas</td>\n",
       "      <td>3712.0</td>\n",
       "      <td>1173.0</td>\n",
       "      <td>15039.0</td>\n",
       "      <td>9815.0</td>\n",
       "      <td>723.0</td>\n",
       "      <td>744</td>\n",
       "      <td>12.0</td>\n",
       "      <td>29.0</td>\n",
       "      <td>...</td>\n",
       "      <td>0.0</td>\n",
       "      <td>0.0</td>\n",
       "      <td>0.0</td>\n",
       "      <td>16.0</td>\n",
       "      <td>21.0</td>\n",
       "      <td>1.0</td>\n",
       "      <td>0.0</td>\n",
       "      <td>0.0</td>\n",
       "      <td>0.0</td>\n",
       "      <td>34134</td>\n",
       "    </tr>\n",
       "    <tr>\n",
       "      <th>4</th>\n",
       "      <td>2021-03</td>\n",
       "      <td>California</td>\n",
       "      <td>17904.0</td>\n",
       "      <td>12669.0</td>\n",
       "      <td>50271.0</td>\n",
       "      <td>35334.0</td>\n",
       "      <td>7327.0</td>\n",
       "      <td>0</td>\n",
       "      <td>0.0</td>\n",
       "      <td>3.0</td>\n",
       "      <td>...</td>\n",
       "      <td>121.0</td>\n",
       "      <td>0.0</td>\n",
       "      <td>0.0</td>\n",
       "      <td>10623.0</td>\n",
       "      <td>4159.0</td>\n",
       "      <td>829.0</td>\n",
       "      <td>44.0</td>\n",
       "      <td>28.0</td>\n",
       "      <td>1.0</td>\n",
       "      <td>143742</td>\n",
       "    </tr>\n",
       "  </tbody>\n",
       "</table>\n",
       "<p>5 rows × 27 columns</p>\n",
       "</div>"
      ],
      "text/plain": [
       "     month       state   permit  permit_recheck  handgun  long_gun   other  \\\n",
       "0  2021-03     Alabama  42992.0           690.0  34675.0   20702.0  2048.0   \n",
       "1  2021-03      Alaska    322.0             1.0   4375.0    4186.0   590.0   \n",
       "2  2021-03     Arizona  10118.0           699.0  32738.0   15268.0  2497.0   \n",
       "3  2021-03    Arkansas   3712.0          1173.0  15039.0    9815.0   723.0   \n",
       "4  2021-03  California  17904.0         12669.0  50271.0   35334.0  7327.0   \n",
       "\n",
       "   multiple  admin  prepawn_handgun   ...    returned_other  rentals_handgun  \\\n",
       "0      1599    0.0             47.0   ...               0.0              0.0   \n",
       "1       316    0.0              0.0   ...               0.0              0.0   \n",
       "2      1746    0.0             20.0   ...               4.0              0.0   \n",
       "3       744   12.0             29.0   ...               0.0              0.0   \n",
       "4         0    0.0              3.0   ...             121.0              0.0   \n",
       "\n",
       "   rentals_long_gun  private_sale_handgun  private_sale_long_gun  \\\n",
       "0               0.0                  35.0                   27.0   \n",
       "1               0.0                   8.0                    3.0   \n",
       "2               0.0                  27.0                   17.0   \n",
       "3               0.0                  16.0                   21.0   \n",
       "4               0.0               10623.0                 4159.0   \n",
       "\n",
       "   private_sale_other  return_to_seller_handgun  return_to_seller_long_gun  \\\n",
       "0                 9.0                       1.0                        1.0   \n",
       "1                 3.0                       0.0                        1.0   \n",
       "2                 4.0                       0.0                        0.0   \n",
       "3                 1.0                       0.0                        0.0   \n",
       "4               829.0                      44.0                       28.0   \n",
       "\n",
       "   return_to_seller_other  totals  \n",
       "0                     1.0  107474  \n",
       "1                     0.0   10170  \n",
       "2                     0.0   65805  \n",
       "3                     0.0   34134  \n",
       "4                     1.0  143742  \n",
       "\n",
       "[5 rows x 27 columns]"
      ]
     },
     "execution_count": 2,
     "metadata": {},
     "output_type": "execute_result"
    }
   ],
   "source": [
    "# Load NICS Firearm Background Checks:\n",
    "nics_df = pd.read_csv('nics-firearm-background-checks.csv')\n",
    "# Perform operations to inspect data\n",
    "print('- nics firearm background checks size : ',nics_df.shape)\n",
    "nics_df.head()"
   ]
  },
  {
   "cell_type": "code",
   "execution_count": 3,
   "metadata": {},
   "outputs": [
    {
     "name": "stdout",
     "output_type": "stream",
     "text": [
      "<class 'pandas.core.frame.DataFrame'>\n",
      "RangeIndex: 14795 entries, 0 to 14794\n",
      "Data columns (total 27 columns):\n",
      "month                        14795 non-null object\n",
      "state                        14795 non-null object\n",
      "permit                       14771 non-null float64\n",
      "permit_recheck               3410 non-null float64\n",
      "handgun                      14775 non-null float64\n",
      "long_gun                     14776 non-null float64\n",
      "other                        7810 non-null float64\n",
      "multiple                     14795 non-null int64\n",
      "admin                        14772 non-null float64\n",
      "prepawn_handgun              12852 non-null float64\n",
      "prepawn_long_gun             12850 non-null float64\n",
      "prepawn_other                7425 non-null float64\n",
      "redemption_handgun           12855 non-null float64\n",
      "redemption_long_gun          12854 non-null float64\n",
      "redemption_other             7425 non-null float64\n",
      "returned_handgun             4510 non-null float64\n",
      "returned_long_gun            4455 non-null float64\n",
      "returned_other               4125 non-null float64\n",
      "rentals_handgun              3300 non-null float64\n",
      "rentals_long_gun             3135 non-null float64\n",
      "private_sale_handgun         5060 non-null float64\n",
      "private_sale_long_gun        5060 non-null float64\n",
      "private_sale_other           5060 non-null float64\n",
      "return_to_seller_handgun     4785 non-null float64\n",
      "return_to_seller_long_gun    5060 non-null float64\n",
      "return_to_seller_other       4565 non-null float64\n",
      "totals                       14795 non-null int64\n",
      "dtypes: float64(23), int64(2), object(2)\n",
      "memory usage: 3.0+ MB\n"
     ]
    }
   ],
   "source": [
    "# check which columns have missing values with info()\n",
    "nics_df.info()"
   ]
  },
  {
   "cell_type": "code",
   "execution_count": 4,
   "metadata": {},
   "outputs": [
    {
     "name": "stdout",
     "output_type": "stream",
     "text": [
      "- Number of duplicated rows: 0 \n",
      "\n",
      "- The number of missing data in each columns:\n"
     ]
    },
    {
     "data": {
      "text/plain": [
       "month                            0\n",
       "state                            0\n",
       "permit                          24\n",
       "permit_recheck               11385\n",
       "handgun                         20\n",
       "long_gun                        19\n",
       "other                         6985\n",
       "multiple                         0\n",
       "admin                           23\n",
       "prepawn_handgun               1943\n",
       "prepawn_long_gun              1945\n",
       "prepawn_other                 7370\n",
       "redemption_handgun            1940\n",
       "redemption_long_gun           1941\n",
       "redemption_other              7370\n",
       "returned_handgun             10285\n",
       "returned_long_gun            10340\n",
       "returned_other               10670\n",
       "rentals_handgun              11495\n",
       "rentals_long_gun             11660\n",
       "private_sale_handgun          9735\n",
       "private_sale_long_gun         9735\n",
       "private_sale_other            9735\n",
       "return_to_seller_handgun     10010\n",
       "return_to_seller_long_gun     9735\n",
       "return_to_seller_other       10230\n",
       "totals                           0\n",
       "dtype: int64"
      ]
     },
     "execution_count": 4,
     "metadata": {},
     "output_type": "execute_result"
    }
   ],
   "source": [
    "# check for duplicates in the data\n",
    "print('- Number of duplicated rows:',sum(nics_df.duplicated()),'\\n')\n",
    "# count the number of missing data in each columon\n",
    "print('- The number of missing data in each columns:')\n",
    "nics_df.isnull().sum()"
   ]
  },
  {
   "cell_type": "code",
   "execution_count": 5,
   "metadata": {},
   "outputs": [],
   "source": [
    "# convert object data type to python datetime\n",
    "nics_df['month'] = pd.to_datetime(nics_df['month'])"
   ]
  },
  {
   "cell_type": "markdown",
   "metadata": {},
   "source": [
    "#### drop the years before 2010 and after 2019 not enough poplution data exit \n"
   ]
  },
  {
   "cell_type": "code",
   "execution_count": 6,
   "metadata": {},
   "outputs": [
    {
     "data": {
      "text/plain": [
       "array([2021, 2020, 2019, 2018, 2017, 2016, 2015, 2014, 2013, 2012, 2011,\n",
       "       2010, 2009, 2008, 2007, 2006, 2005, 2004, 2003, 2002, 2001, 2000,\n",
       "       1999, 1998])"
      ]
     },
     "execution_count": 6,
     "metadata": {},
     "output_type": "execute_result"
    }
   ],
   "source": [
    "nics_df.month.dt.year.unique()"
   ]
  },
  {
   "cell_type": "code",
   "execution_count": 7,
   "metadata": {},
   "outputs": [],
   "source": [
    "yr_out_scope = [2021, 2020, 2009, 2008, 2007, 2006, 2005, 2004, 2003, 2002, 2001, 2000, 1999, 1998]\n",
    "nics_df = nics_df[~nics_df.month.dt.year.isin(yr_out_scope)]"
   ]
  },
  {
   "cell_type": "markdown",
   "metadata": {},
   "source": [
    "### Drop District of Columbia, and U.S. territories not enough data\n",
    "USA colonies : Guam, Puerto Rico, District Columbia, Virgin Islands, and Mariana Islands "
   ]
  },
  {
   "cell_type": "code",
   "execution_count": 8,
   "metadata": {},
   "outputs": [
    {
     "data": {
      "text/plain": [
       "50"
      ]
     },
     "execution_count": 8,
     "metadata": {},
     "output_type": "execute_result"
    }
   ],
   "source": [
    "colonies = ['Puerto Rico', 'Mariana Islands', 'Virgin Islands','Guam' , 'District of Columbia']\n",
    "nics_df = nics_df[~nics_df.state.isin(colonies)]\n",
    "nics_df['state'].nunique()"
   ]
  },
  {
   "cell_type": "markdown",
   "metadata": {},
   "source": [
    "### drop colmons out of scope"
   ]
  },
  {
   "cell_type": "code",
   "execution_count": 9,
   "metadata": {},
   "outputs": [],
   "source": [
    "cols_out_scope = [ \"admin\" , 'prepawn_handgun', 'prepawn_long_gun', 'prepawn_other', 'redemption_handgun', \n",
    "                  'redemption_long_gun', 'redemption_other', 'returned_handgun', 'returned_long_gun', \n",
    "                  'returned_other', 'rentals_handgun', 'rentals_long_gun', 'private_sale_handgun', \n",
    "                  'private_sale_long_gun', 'private_sale_other', 'return_to_seller_handgun',\n",
    "                  'return_to_seller_long_gun', 'return_to_seller_other','permit_recheck']\n",
    "nics_df.drop(cols_out_scope, axis = 1, inplace = True)"
   ]
  },
  {
   "cell_type": "code",
   "execution_count": 10,
   "metadata": {},
   "outputs": [
    {
     "data": {
      "text/plain": [
       "month       0\n",
       "state       0\n",
       "permit      0\n",
       "handgun     0\n",
       "long_gun    0\n",
       "other       0\n",
       "multiple    0\n",
       "totals      0\n",
       "dtype: int64"
      ]
     },
     "execution_count": 10,
     "metadata": {},
     "output_type": "execute_result"
    }
   ],
   "source": [
    "# count the number of missing data in each columon\n",
    "nics_df.isnull().sum()"
   ]
  },
  {
   "cell_type": "code",
   "execution_count": 11,
   "metadata": {},
   "outputs": [],
   "source": [
    "# use zeros to fill in missing values beacuase apearally this data is zero\n",
    "nics_df.fillna(0, inplace=True)"
   ]
  },
  {
   "cell_type": "code",
   "execution_count": 12,
   "metadata": {},
   "outputs": [],
   "source": [
    "# convert data type from float to int\n",
    "for i in range(2,nics_df.shape[1]):\n",
    "    nics_df.iloc[:,i] = nics_df.iloc[:,i].astype(int)  "
   ]
  },
  {
   "cell_type": "code",
   "execution_count": 13,
   "metadata": {},
   "outputs": [
    {
     "data": {
      "text/plain": [
       "50"
      ]
     },
     "execution_count": 13,
     "metadata": {},
     "output_type": "execute_result"
    }
   ],
   "source": [
    "# strip and convert to string \n",
    "nics_df['state'] = nics_df['state'].astype(str)\n",
    "nics_df['state'].nunique()"
   ]
  },
  {
   "cell_type": "code",
   "execution_count": 14,
   "metadata": {},
   "outputs": [
    {
     "name": "stdout",
     "output_type": "stream",
     "text": [
      "<class 'pandas.core.frame.DataFrame'>\n",
      "Int64Index: 6000 entries, 825 to 7424\n",
      "Data columns (total 8 columns):\n",
      "month       6000 non-null datetime64[ns]\n",
      "state       6000 non-null object\n",
      "permit      6000 non-null int64\n",
      "handgun     6000 non-null int64\n",
      "long_gun    6000 non-null int64\n",
      "other       6000 non-null int64\n",
      "multiple    6000 non-null int64\n",
      "totals      6000 non-null int64\n",
      "dtypes: datetime64[ns](1), int64(6), object(1)\n",
      "memory usage: 421.9+ KB\n"
     ]
    }
   ],
   "source": [
    "# confirm your correction with info()\n",
    "nics_df.info()"
   ]
  },
  {
   "cell_type": "code",
   "execution_count": 15,
   "metadata": {},
   "outputs": [
    {
     "data": {
      "text/html": [
       "<div>\n",
       "<style scoped>\n",
       "    .dataframe tbody tr th:only-of-type {\n",
       "        vertical-align: middle;\n",
       "    }\n",
       "\n",
       "    .dataframe tbody tr th {\n",
       "        vertical-align: top;\n",
       "    }\n",
       "\n",
       "    .dataframe thead th {\n",
       "        text-align: right;\n",
       "    }\n",
       "</style>\n",
       "<table border=\"1\" class=\"dataframe\">\n",
       "  <thead>\n",
       "    <tr style=\"text-align: right;\">\n",
       "      <th></th>\n",
       "      <th>month</th>\n",
       "      <th>state</th>\n",
       "      <th>permit</th>\n",
       "      <th>handgun</th>\n",
       "      <th>long_gun</th>\n",
       "      <th>other</th>\n",
       "      <th>multiple</th>\n",
       "      <th>totals</th>\n",
       "    </tr>\n",
       "  </thead>\n",
       "  <tbody>\n",
       "    <tr>\n",
       "      <th>825</th>\n",
       "      <td>2019-12-01</td>\n",
       "      <td>Alabama</td>\n",
       "      <td>33683</td>\n",
       "      <td>33020</td>\n",
       "      <td>25882</td>\n",
       "      <td>1560</td>\n",
       "      <td>1382</td>\n",
       "      <td>100100</td>\n",
       "    </tr>\n",
       "    <tr>\n",
       "      <th>826</th>\n",
       "      <td>2019-12-01</td>\n",
       "      <td>Alaska</td>\n",
       "      <td>386</td>\n",
       "      <td>3455</td>\n",
       "      <td>3080</td>\n",
       "      <td>397</td>\n",
       "      <td>215</td>\n",
       "      <td>7840</td>\n",
       "    </tr>\n",
       "    <tr>\n",
       "      <th>827</th>\n",
       "      <td>2019-12-01</td>\n",
       "      <td>Arizona</td>\n",
       "      <td>4536</td>\n",
       "      <td>18178</td>\n",
       "      <td>10423</td>\n",
       "      <td>1560</td>\n",
       "      <td>1109</td>\n",
       "      <td>38171</td>\n",
       "    </tr>\n",
       "    <tr>\n",
       "      <th>828</th>\n",
       "      <td>2019-12-01</td>\n",
       "      <td>Arkansas</td>\n",
       "      <td>2339</td>\n",
       "      <td>8671</td>\n",
       "      <td>10957</td>\n",
       "      <td>531</td>\n",
       "      <td>458</td>\n",
       "      <td>25699</td>\n",
       "    </tr>\n",
       "    <tr>\n",
       "      <th>829</th>\n",
       "      <td>2019-12-01</td>\n",
       "      <td>California</td>\n",
       "      <td>29544</td>\n",
       "      <td>40637</td>\n",
       "      <td>30780</td>\n",
       "      <td>4883</td>\n",
       "      <td>0</td>\n",
       "      <td>106600</td>\n",
       "    </tr>\n",
       "  </tbody>\n",
       "</table>\n",
       "</div>"
      ],
      "text/plain": [
       "         month       state  permit  handgun  long_gun  other  multiple  totals\n",
       "825 2019-12-01     Alabama   33683    33020     25882   1560      1382  100100\n",
       "826 2019-12-01      Alaska     386     3455      3080    397       215    7840\n",
       "827 2019-12-01     Arizona    4536    18178     10423   1560      1109   38171\n",
       "828 2019-12-01    Arkansas    2339     8671     10957    531       458   25699\n",
       "829 2019-12-01  California   29544    40637     30780   4883         0  106600"
      ]
     },
     "execution_count": 15,
     "metadata": {},
     "output_type": "execute_result"
    }
   ],
   "source": [
    "nics_df.head()"
   ]
  },
  {
   "cell_type": "code",
   "execution_count": 16,
   "metadata": {},
   "outputs": [],
   "source": [
    "nics_df.to_csv('nics.csv', index = False)"
   ]
  }
 ],
 "metadata": {
  "kernelspec": {
   "display_name": "Python 3",
   "language": "python",
   "name": "python3"
  },
  "language_info": {
   "codemirror_mode": {
    "name": "ipython",
    "version": 3
   },
   "file_extension": ".py",
   "mimetype": "text/x-python",
   "name": "python",
   "nbconvert_exporter": "python",
   "pygments_lexer": "ipython3",
   "version": "3.6.3"
  }
 },
 "nbformat": 4,
 "nbformat_minor": 2
}

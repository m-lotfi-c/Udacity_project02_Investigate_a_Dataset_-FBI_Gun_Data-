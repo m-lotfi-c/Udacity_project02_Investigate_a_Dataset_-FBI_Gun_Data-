{
 "cells": [
  {
   "cell_type": "markdown",
   "metadata": {},
   "source": [
    "#### Script used to clean and Sort data"
   ]
  },
  {
   "cell_type": "markdown",
   "metadata": {},
   "source": [
    "### 02- Data Wrangling for USA population data"
   ]
  },
  {
   "cell_type": "code",
   "execution_count": 1,
   "metadata": {},
   "outputs": [],
   "source": [
    "# Use this cell to set up import statements for all of the packages \n",
    "import numpy as np\n",
    "import pandas as pd\n",
    "import seaborn as sns\n",
    "from matplotlib import pyplot as plt\n",
    "\n",
    "# 'magic word' so that your visualizations are plotted\n",
    "%matplotlib inline"
   ]
  },
  {
   "cell_type": "code",
   "execution_count": 2,
   "metadata": {},
   "outputs": [
    {
     "name": "stdout",
     "output_type": "stream",
     "text": [
      "- census population [2010-2019] size :  (536, 13)\n"
     ]
    },
    {
     "data": {
      "text/html": [
       "<div>\n",
       "<style scoped>\n",
       "    .dataframe tbody tr th:only-of-type {\n",
       "        vertical-align: middle;\n",
       "    }\n",
       "\n",
       "    .dataframe tbody tr th {\n",
       "        vertical-align: top;\n",
       "    }\n",
       "\n",
       "    .dataframe thead th {\n",
       "        text-align: right;\n",
       "    }\n",
       "</style>\n",
       "<table border=\"1\" class=\"dataframe\">\n",
       "  <thead>\n",
       "    <tr style=\"text-align: right;\">\n",
       "      <th></th>\n",
       "      <th>state</th>\n",
       "      <th>year</th>\n",
       "      <th>State Code</th>\n",
       "      <th>Region</th>\n",
       "      <th>population</th>\n",
       "      <th>population ratio</th>\n",
       "      <th>population  region ratio</th>\n",
       "      <th>area</th>\n",
       "      <th>area density</th>\n",
       "      <th>land</th>\n",
       "      <th>land density</th>\n",
       "      <th>water</th>\n",
       "      <th>water density</th>\n",
       "    </tr>\n",
       "  </thead>\n",
       "  <tbody>\n",
       "    <tr>\n",
       "      <th>0</th>\n",
       "      <td>Alabama</td>\n",
       "      <td>2010</td>\n",
       "      <td>AL</td>\n",
       "      <td>South</td>\n",
       "      <td>4785437.0</td>\n",
       "      <td>0.015471</td>\n",
       "      <td>0.041661</td>\n",
       "      <td>135767.0</td>\n",
       "      <td>35.2474239</td>\n",
       "      <td>131171.0</td>\n",
       "      <td>34.05422407</td>\n",
       "      <td>4597.0</td>\n",
       "      <td>1.193459439</td>\n",
       "    </tr>\n",
       "    <tr>\n",
       "      <th>1</th>\n",
       "      <td>Alaska</td>\n",
       "      <td>2010</td>\n",
       "      <td>AK</td>\n",
       "      <td>West</td>\n",
       "      <td>713910.0</td>\n",
       "      <td>0.002308</td>\n",
       "      <td>0.009902</td>\n",
       "      <td>1723337.0</td>\n",
       "      <td>0.41426024</td>\n",
       "      <td>1477953.0</td>\n",
       "      <td>0.355274195</td>\n",
       "      <td>245384.0</td>\n",
       "      <td>0.058986046</td>\n",
       "    </tr>\n",
       "    <tr>\n",
       "      <th>2</th>\n",
       "      <td>Arizona</td>\n",
       "      <td>2010</td>\n",
       "      <td>AZ</td>\n",
       "      <td>West</td>\n",
       "      <td>6407172.0</td>\n",
       "      <td>0.020714</td>\n",
       "      <td>0.088865</td>\n",
       "      <td>295234.0</td>\n",
       "      <td>21.70201264</td>\n",
       "      <td>294207.0</td>\n",
       "      <td>21.62652009</td>\n",
       "      <td>1026.0</td>\n",
       "      <td>0.07541904</td>\n",
       "    </tr>\n",
       "    <tr>\n",
       "      <th>3</th>\n",
       "      <td>Arkansas</td>\n",
       "      <td>2010</td>\n",
       "      <td>AR</td>\n",
       "      <td>South</td>\n",
       "      <td>2921964.0</td>\n",
       "      <td>0.009446</td>\n",
       "      <td>0.025438</td>\n",
       "      <td>137732.0</td>\n",
       "      <td>21.21485203</td>\n",
       "      <td>134771.0</td>\n",
       "      <td>20.75876937</td>\n",
       "      <td>2961.0</td>\n",
       "      <td>0.45608266</td>\n",
       "    </tr>\n",
       "    <tr>\n",
       "      <th>4</th>\n",
       "      <td>California</td>\n",
       "      <td>2010</td>\n",
       "      <td>CA</td>\n",
       "      <td>West</td>\n",
       "      <td>37319502.0</td>\n",
       "      <td>0.120649</td>\n",
       "      <td>0.517604</td>\n",
       "      <td>423967.0</td>\n",
       "      <td>88.02454436</td>\n",
       "      <td>403466.0</td>\n",
       "      <td>83.7681018</td>\n",
       "      <td>20501.0</td>\n",
       "      <td>4.256442563</td>\n",
       "    </tr>\n",
       "  </tbody>\n",
       "</table>\n",
       "</div>"
      ],
      "text/plain": [
       "        state  year State Code Region  population  population ratio  \\\n",
       "0     Alabama  2010         AL  South   4785437.0          0.015471   \n",
       "1      Alaska  2010         AK   West    713910.0          0.002308   \n",
       "2     Arizona  2010         AZ   West   6407172.0          0.020714   \n",
       "3    Arkansas  2010         AR  South   2921964.0          0.009446   \n",
       "4  California  2010         CA   West  37319502.0          0.120649   \n",
       "\n",
       "   population  region ratio       area area density       land land density  \\\n",
       "0                  0.041661   135767.0   35.2474239   131171.0  34.05422407   \n",
       "1                  0.009902  1723337.0   0.41426024  1477953.0  0.355274195   \n",
       "2                  0.088865   295234.0  21.70201264   294207.0  21.62652009   \n",
       "3                  0.025438   137732.0  21.21485203   134771.0  20.75876937   \n",
       "4                  0.517604   423967.0  88.02454436   403466.0   83.7681018   \n",
       "\n",
       "      water water density  \n",
       "0    4597.0   1.193459439  \n",
       "1  245384.0   0.058986046  \n",
       "2    1026.0    0.07541904  \n",
       "3    2961.0    0.45608266  \n",
       "4   20501.0   4.256442563  "
      ]
     },
     "execution_count": 2,
     "metadata": {},
     "output_type": "execute_result"
    }
   ],
   "source": [
    "# Load USA population data:\n",
    "population_df = pd.read_csv('us_census_population.csv')\n",
    "# Perform operations to inspect data\n",
    "print('- census population [2010-2019] size : ', population_df.shape)\n",
    "population_df.head()"
   ]
  },
  {
   "cell_type": "code",
   "execution_count": 3,
   "metadata": {},
   "outputs": [
    {
     "name": "stdout",
     "output_type": "stream",
     "text": [
      "<class 'pandas.core.frame.DataFrame'>\n",
      "RangeIndex: 536 entries, 0 to 535\n",
      "Data columns (total 13 columns):\n",
      "state                       536 non-null object\n",
      "year                        536 non-null int64\n",
      "State Code                  510 non-null object\n",
      "Region                      510 non-null object\n",
      "population                  521 non-null float64\n",
      "population ratio            531 non-null float64\n",
      "population  region ratio    531 non-null float64\n",
      "area                        528 non-null float64\n",
      "area density                531 non-null object\n",
      "land                        528 non-null float64\n",
      "land density                531 non-null object\n",
      "water                       528 non-null float64\n",
      "water density               531 non-null object\n",
      "dtypes: float64(6), int64(1), object(6)\n",
      "memory usage: 54.5+ KB\n"
     ]
    }
   ],
   "source": [
    "# check which columns have missing values with info()\n",
    "population_df.info()"
   ]
  },
  {
   "cell_type": "code",
   "execution_count": 4,
   "metadata": {},
   "outputs": [
    {
     "name": "stdout",
     "output_type": "stream",
     "text": [
      "- Number of duplicated rows: 0 \n",
      "\n",
      "- The number of missing data in each columns:\n"
     ]
    },
    {
     "data": {
      "text/plain": [
       "state                        0\n",
       "year                         0\n",
       "State Code                  26\n",
       "Region                      26\n",
       "population                  15\n",
       "population ratio             5\n",
       "population  region ratio     5\n",
       "area                         8\n",
       "area density                 5\n",
       "land                         8\n",
       "land density                 5\n",
       "water                        8\n",
       "water density                5\n",
       "dtype: int64"
      ]
     },
     "execution_count": 4,
     "metadata": {},
     "output_type": "execute_result"
    }
   ],
   "source": [
    "# check for duplicates in the data\n",
    "print('- Number of duplicated rows:',sum(population_df.duplicated()),'\\n')\n",
    "# count the number of missing data in each columon\n",
    "print('- The number of missing data in each columns:')\n",
    "population_df.isnull().sum()"
   ]
  },
  {
   "cell_type": "markdown",
   "metadata": {},
   "source": [
    "#### drop the years before 2010 and after 2019 not enough poplution data exit "
   ]
  },
  {
   "cell_type": "code",
   "execution_count": 5,
   "metadata": {},
   "outputs": [
    {
     "data": {
      "text/plain": [
       "array([2010, 2011, 2012, 2013, 2014, 2015, 2016, 2017, 2018, 2019])"
      ]
     },
     "execution_count": 5,
     "metadata": {},
     "output_type": "execute_result"
    }
   ],
   "source": [
    "population_df.year.unique()"
   ]
  },
  {
   "cell_type": "markdown",
   "metadata": {},
   "source": [
    "#### Drop District of Columbia, and U.S. territories not enough data.\n",
    "USA colonies : Guam, Puerto Rico, District Columbia, Virgin Islands, and Mariana Islands "
   ]
  },
  {
   "cell_type": "code",
   "execution_count": 6,
   "metadata": {},
   "outputs": [
    {
     "data": {
      "text/plain": [
       "50"
      ]
     },
     "execution_count": 6,
     "metadata": {},
     "output_type": "execute_result"
    }
   ],
   "source": [
    "colonies = ['Puerto Rico', 'Mariana Islands', 'Virgin Islands','Guam' , 'District of Columbia']\n",
    "population_df = population_df[~population_df.state.isin(colonies)]\n",
    "population_df['state'].nunique()"
   ]
  },
  {
   "cell_type": "code",
   "execution_count": 9,
   "metadata": {},
   "outputs": [],
   "source": [
    "# count the number of missing data in each columon"
   ]
  },
  {
   "cell_type": "code",
   "execution_count": 7,
   "metadata": {},
   "outputs": [
    {
     "data": {
      "text/plain": [
       "state                       0\n",
       "year                        0\n",
       "State Code                  0\n",
       "Region                      0\n",
       "population                  0\n",
       "population ratio            0\n",
       "population  region ratio    0\n",
       "area                        0\n",
       "area density                0\n",
       "land                        0\n",
       "land density                0\n",
       "water                       0\n",
       "water density               0\n",
       "dtype: int64"
      ]
     },
     "execution_count": 7,
     "metadata": {},
     "output_type": "execute_result"
    }
   ],
   "source": [
    "population_df.isnull().sum()"
   ]
  },
  {
   "cell_type": "markdown",
   "metadata": {},
   "source": [
    "#### convert data type to appropate data type"
   ]
  },
  {
   "cell_type": "code",
   "execution_count": 8,
   "metadata": {},
   "outputs": [],
   "source": [
    "population_df.iloc[:,1] = population_df.iloc[:,1].astype(int) \n",
    "population_df.iloc[:,4] = population_df.iloc[:,4].astype(int) \n",
    "population_df.iloc[:,7] = population_df.iloc[:,7].astype(int)\n",
    "population_df.iloc[:,8] = population_df.iloc[:,8].astype(float)\n",
    "population_df.iloc[:,9] = population_df.iloc[:,9].astype(int)\n",
    "population_df.iloc[:,10] = population_df.iloc[:,10].astype(float)\n",
    "population_df.iloc[:,11] = population_df.iloc[:,11].astype(int)\n",
    "population_df.iloc[:,12] = population_df.iloc[:,12].astype(float)"
   ]
  },
  {
   "cell_type": "code",
   "execution_count": 9,
   "metadata": {},
   "outputs": [
    {
     "data": {
      "text/plain": [
       "50"
      ]
     },
     "execution_count": 9,
     "metadata": {},
     "output_type": "execute_result"
    }
   ],
   "source": [
    "# strip and convert to string \n",
    "population_df['state'] = population_df['state'].astype(str)\n",
    "population_df['state'].nunique()"
   ]
  },
  {
   "cell_type": "markdown",
   "metadata": {},
   "source": [
    "#### confirm your correction with info()"
   ]
  },
  {
   "cell_type": "code",
   "execution_count": 10,
   "metadata": {},
   "outputs": [
    {
     "name": "stdout",
     "output_type": "stream",
     "text": [
      "<class 'pandas.core.frame.DataFrame'>\n",
      "Int64Index: 500 entries, 0 to 535\n",
      "Data columns (total 13 columns):\n",
      "state                       500 non-null object\n",
      "year                        500 non-null int64\n",
      "State Code                  500 non-null object\n",
      "Region                      500 non-null object\n",
      "population                  500 non-null int64\n",
      "population ratio            500 non-null float64\n",
      "population  region ratio    500 non-null float64\n",
      "area                        500 non-null int64\n",
      "area density                500 non-null float64\n",
      "land                        500 non-null int64\n",
      "land density                500 non-null float64\n",
      "water                       500 non-null int64\n",
      "water density               500 non-null float64\n",
      "dtypes: float64(5), int64(5), object(3)\n",
      "memory usage: 54.7+ KB\n"
     ]
    }
   ],
   "source": [
    "population_df.info()"
   ]
  },
  {
   "cell_type": "code",
   "execution_count": 11,
   "metadata": {},
   "outputs": [
    {
     "data": {
      "text/html": [
       "<div>\n",
       "<style scoped>\n",
       "    .dataframe tbody tr th:only-of-type {\n",
       "        vertical-align: middle;\n",
       "    }\n",
       "\n",
       "    .dataframe tbody tr th {\n",
       "        vertical-align: top;\n",
       "    }\n",
       "\n",
       "    .dataframe thead th {\n",
       "        text-align: right;\n",
       "    }\n",
       "</style>\n",
       "<table border=\"1\" class=\"dataframe\">\n",
       "  <thead>\n",
       "    <tr style=\"text-align: right;\">\n",
       "      <th></th>\n",
       "      <th>state</th>\n",
       "      <th>year</th>\n",
       "      <th>State Code</th>\n",
       "      <th>Region</th>\n",
       "      <th>population</th>\n",
       "      <th>population ratio</th>\n",
       "      <th>population  region ratio</th>\n",
       "      <th>area</th>\n",
       "      <th>area density</th>\n",
       "      <th>land</th>\n",
       "      <th>land density</th>\n",
       "      <th>water</th>\n",
       "      <th>water density</th>\n",
       "    </tr>\n",
       "  </thead>\n",
       "  <tbody>\n",
       "    <tr>\n",
       "      <th>0</th>\n",
       "      <td>Alabama</td>\n",
       "      <td>2010</td>\n",
       "      <td>AL</td>\n",
       "      <td>South</td>\n",
       "      <td>4785437</td>\n",
       "      <td>0.015471</td>\n",
       "      <td>0.041661</td>\n",
       "      <td>135767</td>\n",
       "      <td>35.247424</td>\n",
       "      <td>131171</td>\n",
       "      <td>34.054224</td>\n",
       "      <td>4597</td>\n",
       "      <td>1.193459</td>\n",
       "    </tr>\n",
       "    <tr>\n",
       "      <th>1</th>\n",
       "      <td>Alaska</td>\n",
       "      <td>2010</td>\n",
       "      <td>AK</td>\n",
       "      <td>West</td>\n",
       "      <td>713910</td>\n",
       "      <td>0.002308</td>\n",
       "      <td>0.009902</td>\n",
       "      <td>1723337</td>\n",
       "      <td>0.414260</td>\n",
       "      <td>1477953</td>\n",
       "      <td>0.355274</td>\n",
       "      <td>245384</td>\n",
       "      <td>0.058986</td>\n",
       "    </tr>\n",
       "    <tr>\n",
       "      <th>2</th>\n",
       "      <td>Arizona</td>\n",
       "      <td>2010</td>\n",
       "      <td>AZ</td>\n",
       "      <td>West</td>\n",
       "      <td>6407172</td>\n",
       "      <td>0.020714</td>\n",
       "      <td>0.088865</td>\n",
       "      <td>295234</td>\n",
       "      <td>21.702013</td>\n",
       "      <td>294207</td>\n",
       "      <td>21.626520</td>\n",
       "      <td>1026</td>\n",
       "      <td>0.075419</td>\n",
       "    </tr>\n",
       "    <tr>\n",
       "      <th>3</th>\n",
       "      <td>Arkansas</td>\n",
       "      <td>2010</td>\n",
       "      <td>AR</td>\n",
       "      <td>South</td>\n",
       "      <td>2921964</td>\n",
       "      <td>0.009446</td>\n",
       "      <td>0.025438</td>\n",
       "      <td>137732</td>\n",
       "      <td>21.214852</td>\n",
       "      <td>134771</td>\n",
       "      <td>20.758769</td>\n",
       "      <td>2961</td>\n",
       "      <td>0.456083</td>\n",
       "    </tr>\n",
       "    <tr>\n",
       "      <th>4</th>\n",
       "      <td>California</td>\n",
       "      <td>2010</td>\n",
       "      <td>CA</td>\n",
       "      <td>West</td>\n",
       "      <td>37319502</td>\n",
       "      <td>0.120649</td>\n",
       "      <td>0.517604</td>\n",
       "      <td>423967</td>\n",
       "      <td>88.024544</td>\n",
       "      <td>403466</td>\n",
       "      <td>83.768102</td>\n",
       "      <td>20501</td>\n",
       "      <td>4.256443</td>\n",
       "    </tr>\n",
       "  </tbody>\n",
       "</table>\n",
       "</div>"
      ],
      "text/plain": [
       "        state  year State Code Region  population  population ratio  \\\n",
       "0     Alabama  2010         AL  South     4785437          0.015471   \n",
       "1      Alaska  2010         AK   West      713910          0.002308   \n",
       "2     Arizona  2010         AZ   West     6407172          0.020714   \n",
       "3    Arkansas  2010         AR  South     2921964          0.009446   \n",
       "4  California  2010         CA   West    37319502          0.120649   \n",
       "\n",
       "   population  region ratio     area  area density     land  land density  \\\n",
       "0                  0.041661   135767     35.247424   131171     34.054224   \n",
       "1                  0.009902  1723337      0.414260  1477953      0.355274   \n",
       "2                  0.088865   295234     21.702013   294207     21.626520   \n",
       "3                  0.025438   137732     21.214852   134771     20.758769   \n",
       "4                  0.517604   423967     88.024544   403466     83.768102   \n",
       "\n",
       "    water  water density  \n",
       "0    4597       1.193459  \n",
       "1  245384       0.058986  \n",
       "2    1026       0.075419  \n",
       "3    2961       0.456083  \n",
       "4   20501       4.256443  "
      ]
     },
     "execution_count": 11,
     "metadata": {},
     "output_type": "execute_result"
    }
   ],
   "source": [
    "population_df.head()"
   ]
  },
  {
   "cell_type": "code",
   "execution_count": 12,
   "metadata": {},
   "outputs": [],
   "source": [
    "population_df.to_csv('population.csv', index = False)"
   ]
  }
 ],
 "metadata": {
  "kernelspec": {
   "display_name": "Python 3",
   "language": "python",
   "name": "python3"
  },
  "language_info": {
   "codemirror_mode": {
    "name": "ipython",
    "version": 3
   },
   "file_extension": ".py",
   "mimetype": "text/x-python",
   "name": "python",
   "nbconvert_exporter": "python",
   "pygments_lexer": "ipython3",
   "version": "3.6.3"
  }
 },
 "nbformat": 4,
 "nbformat_minor": 2
}
